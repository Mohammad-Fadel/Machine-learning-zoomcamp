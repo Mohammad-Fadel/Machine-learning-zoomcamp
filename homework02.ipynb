{
 "cells": [
  {
   "cell_type": "code",
   "execution_count": 32,
   "id": "9811b300",
   "metadata": {},
   "outputs": [],
   "source": [
    "\n",
    "import pandas as pd\n",
    "import numpy as np\n",
    "\n",
    "url = 'https://raw.githubusercontent.com/alexeygrigorev/datasets/master/car_fuel_efficiency.csv'\n",
    "df = pd.read_csv(url)\n",
    "cols = ['engine_displacement', 'horsepower', 'vehicle_weight', 'model_year', 'fuel_efficiency_mpg']\n",
    "df = df[cols].copy()\n",
    "\n",
    "def add_intercept(X: np.ndarray) -> np.ndarray:\n",
    "    \"\"\"Add an intercept column of ones to feature matrix.\"\"\"\n",
    "    return np.hstack([np.ones((X.shape[0], 1)), X])\n",
    "\n",
    "def fit_linear_regression(X: np.ndarray, y: np.ndarray, r: float = 0.0) -> np.ndarray:\n",
    "    \"\"\"\n",
    "    Fit linear regression (ridge if r>0) from scratch using normal equations.\n",
    "    - Does NOT regularize the intercept term.\n",
    "    Returns weight vector w (including intercept as w[0]).\n",
    "    \"\"\"\n",
    "    Xb = add_intercept(X)  # (n, d+1)\n",
    "    XtX = Xb.T @ Xb\n",
    "    Xty = Xb.T @ y\n",
    "    \n",
    "    # Ridge: add r to diagonal except intercept\n",
    "    if r > 0:\n",
    "        reg = np.eye(XtX.shape[0]) * r\n",
    "        reg[0, 0] = 0.0  # don't regularize intercept\n",
    "        XtX = XtX + reg\n",
    "    \n",
    "    w = np.linalg.solve(XtX, Xty)\n",
    "    return w\n",
    "\n",
    "def predict(X: np.ndarray, w: np.ndarray) -> np.ndarray:\n",
    "    \"\"\"Predict using learned weights w (with intercept).\"\"\"\n",
    "    return add_intercept(X) @ w\n",
    "\n",
    "def rmse(y_true: np.ndarray, y_pred: np.ndarray) -> float:\n",
    "    return float(np.sqrt(np.mean((y_true - y_pred) ** 2)))\n",
    "\n",
    "def split_train_val_test(df_in: pd.DataFrame, seed: int = 42) -> tuple[pd.DataFrame, pd.DataFrame, pd.DataFrame]:\n",
    "    \"\"\"\n",
    "    Shuffle and split df_in into 60%/20%/20% train/val/test by row (single-pass).\n",
    "    \"\"\"\n",
    "    n = len(df_in)\n",
    "    rng = np.random.default_rng(seed)\n",
    "    idx = np.arange(n)\n",
    "    rng.shuffle(idx)\n",
    "    n_train = int(0.6 * n)\n",
    "    n_val = int(0.2 * n)\n",
    "    train_idx = idx[:n_train]\n",
    "    val_idx = idx[n_train:n_train + n_val]\n",
    "    test_idx = idx[n_train + n_val:]\n",
    "    return df_in.iloc[train_idx].copy(), df_in.iloc[val_idx].copy(), df_in.iloc[test_idx].copy()\n",
    "\n",
    "def split_train_val_test_2step(df_in: pd.DataFrame, seed: int = 42):\n",
    "    \"\"\"\n",
    "    Two-step split to mimic lecture-style train_test_split twice with same random_state:\n",
    "    1) split off 20% test\n",
    "    2) re-shuffle remaining 80% with SAME seed and split 75/25 into train/val\n",
    "    \"\"\"\n",
    "    n = len(df_in)\n",
    "    rng = np.random.default_rng(seed)\n",
    "    idx = np.arange(n)\n",
    "    rng.shuffle(idx)\n",
    "    n_test = int(0.2 * n)\n",
    "    test_idx = idx[:n_test]           # 20% test\n",
    "    remaining = idx[n_test:]          # 80%\n",
    "    \n",
    "    rng2 = np.random.default_rng(seed)\n",
    "    rng2.shuffle(remaining)\n",
    "    n_val = int(0.25 * remaining.size)  # 25% of 80% = 20% total\n",
    "    val_idx = remaining[:n_val]\n",
    "    train_idx = remaining[n_val:]\n",
    "    \n",
    "    return df_in.iloc[train_idx].copy(), df_in.iloc[val_idx].copy(), df_in.iloc[test_idx].copy()\n"
   ]
  },
  {
   "cell_type": "code",
   "execution_count": 33,
   "id": "96a16459",
   "metadata": {},
   "outputs": [
    {
     "name": "stdout",
     "output_type": "stream",
     "text": [
      "engine_displacement      0\n",
      "horsepower             708\n",
      "vehicle_weight           0\n",
      "model_year               0\n",
      "fuel_efficiency_mpg      0\n",
      "\n",
      "Column(s) with missing values: ['horsepower']\n"
     ]
    }
   ],
   "source": [
    "# Q1 CELL: Which column has missing values?\n",
    "na_counts = df.isna().sum()\n",
    "print(na_counts.to_string())\n",
    "missing_cols = na_counts[na_counts > 0].index.tolist()\n",
    "print(\"\\nColumn(s) with missing values:\", missing_cols)\n"
   ]
  },
  {
   "cell_type": "code",
   "execution_count": 34,
   "id": "33a10b15",
   "metadata": {},
   "outputs": [
    {
     "name": "stdout",
     "output_type": "stream",
     "text": [
      "Median horsepower: 149.0\n"
     ]
    }
   ],
   "source": [
    "# Q2 CELL: Median (50th percentile) for 'horsepower'\n",
    "median_hp = df['horsepower'].median()\n",
    "print(\"Median horsepower:\", median_hp)\n"
   ]
  },
  {
   "cell_type": "code",
   "execution_count": 35,
   "id": "8ae2070c",
   "metadata": {},
   "outputs": [
    {
     "name": "stdout",
     "output_type": "stream",
     "text": [
      "RMSE (fill with 0):    0.52\n",
      "RMSE (fill with mean): 0.47\n",
      "\n",
      "Better option: With mean\n"
     ]
    }
   ],
   "source": [
    "# Split\n",
    "train_df, val_df, test_df = split_train_val_test(df, seed=42)\n",
    "\n",
    "# Features/target\n",
    "feat_cols = ['engine_displacement', 'horsepower', 'vehicle_weight', 'model_year']\n",
    "target_col = 'fuel_efficiency_mpg'\n",
    "\n",
    "# Fill with 0\n",
    "train_0 = train_df.copy()\n",
    "val_0 = val_df.copy()\n",
    "train_0['horsepower'] = train_0['horsepower'].fillna(0)\n",
    "val_0['horsepower'] = val_0['horsepower'].fillna(0)\n",
    "\n",
    "# Fill with mean (from TRAIN only)\n",
    "hp_mean = train_df['horsepower'].mean()\n",
    "train_mean = train_df.copy()\n",
    "val_mean = val_df.copy()\n",
    "train_mean['horsepower'] = train_mean['horsepower'].fillna(hp_mean)\n",
    "val_mean['horsepower'] = val_mean['horsepower'].fillna(hp_mean)\n",
    "\n",
    "# Convert to numpy\n",
    "X_train_0 = train_0[feat_cols].to_numpy()\n",
    "y_train = train_0[target_col].to_numpy()\n",
    "X_val_0 = val_0[feat_cols].to_numpy()\n",
    "y_val = val_0[target_col].to_numpy()\n",
    "\n",
    "X_train_mean = train_mean[feat_cols].to_numpy()\n",
    "X_val_mean = val_mean[feat_cols].to_numpy()\n",
    "\n",
    "# Fit models\n",
    "w_0 = fit_linear_regression(X_train_0, y_train, r=0.0)\n",
    "w_mean = fit_linear_regression(X_train_mean, y_train, r=0.0)\n",
    "\n",
    "# Evaluate\n",
    "rmse_0 = rmse(y_val, predict(X_val_0, w_0))\n",
    "rmse_mean = rmse(y_val, predict(X_val_mean, w_mean))\n",
    "\n",
    "print(\"RMSE (fill with 0):   \", round(rmse_0, 2))\n",
    "print(\"RMSE (fill with mean):\", round(rmse_mean, 2))\n",
    "print(\"\\nBetter option:\", \"With mean\" if round(rmse_mean, 2) < round(rmse_0, 2) else (\"With 0\" if round(rmse_0, 2) < round(rmse_mean, 2) else \"Both are equally good\"))\n"
   ]
  },
  {
   "cell_type": "code",
   "execution_count": 36,
   "id": "ca4a9f74",
   "metadata": {},
   "outputs": [
    {
     "name": "stdout",
     "output_type": "stream",
     "text": [
      "RMSE by r: {0: 0.52, 0.01: 0.52, 0.1: 0.52, 1: 0.52, 5: 0.52, 10: 0.52, 100: 0.52}\n",
      "Best r: 0 with RMSE: 0.52\n"
     ]
    }
   ],
   "source": [
    "# Prepare (reusing the same split from Q3)\n",
    "train_df, val_df, test_df = split_train_val_test(df, seed=42)\n",
    "\n",
    "feat_cols = ['engine_displacement', 'horsepower', 'vehicle_weight', 'model_year']\n",
    "target_col = 'fuel_efficiency_mpg'\n",
    "\n",
    "train_r = train_df.copy()\n",
    "val_r = val_df.copy()\n",
    "train_r['horsepower'] = train_r['horsepower'].fillna(0)\n",
    "val_r['horsepower'] = val_r['horsepower'].fillna(0)\n",
    "\n",
    "X_train = train_r[feat_cols].to_numpy()\n",
    "y_train = train_r[target_col].to_numpy()\n",
    "X_val = val_r[feat_cols].to_numpy()\n",
    "y_val = val_r[target_col].to_numpy()\n",
    "\n",
    "r_values = [0, 0.01, 0.1, 1, 5, 10, 100]\n",
    "results = {}\n",
    "\n",
    "best_rmse = None\n",
    "best_r = None\n",
    "\n",
    "for r in r_values:\n",
    "    w = fit_linear_regression(X_train, y_train, r=r)\n",
    "    score = rmse(y_val, predict(X_val, w))\n",
    "    results[r] = round(score, 2)\n",
    "    if (best_rmse is None) or (round(score, 2) < best_rmse) or (round(score, 2) == best_rmse and r < best_r):\n",
    "        best_rmse = round(score, 2)\n",
    "        best_r = r\n",
    "\n",
    "print(\"RMSE by r:\", results)\n",
    "print(\"Best r:\", best_r, \"with RMSE:\", best_rmse)\n"
   ]
  },
  {
   "cell_type": "code",
   "execution_count": null,
   "id": "4adf4ac1",
   "metadata": {},
   "outputs": [
    {
     "name": "stdout",
     "output_type": "stream",
     "text": [
      "Validation RMSE by seed: [0.516, 0.523, 0.522, 0.529, 0.524, 0.527, 0.516, 0.521, 0.529, 0.517]\n",
      "Std over seeds (rounded to 3): 0.005\n"
     ]
    }
   ],
   "source": [
    "feat_cols = ['engine_displacement', 'horsepower', 'vehicle_weight', 'model_year']\n",
    "target_col = 'fuel_efficiency_mpg'\n",
    "\n",
    "rmses = []\n",
    "for seed in range(10):\n",
    "    train_df, val_df, test_df = split_train_val_test_2step(df, seed=seed)\n",
    "    train_s = train_df.copy()\n",
    "    val_s = val_df.copy()\n",
    "    train_s['horsepower'] = train_s['horsepower'].fillna(0)\n",
    "    val_s['horsepower'] = val_s['horsepower'].fillna(0)\n",
    "\n",
    "    X_train = train_s[feat_cols].to_numpy()\n",
    "    y_train = train_s[target_col].to_numpy()\n",
    "    X_val = val_s[feat_cols].to_numpy()\n",
    "    y_val = val_s[target_col].to_numpy()\n",
    "\n",
    "    w = fit_linear_regression(X_train, y_train, r=0.0)\n",
    "    score = rmse(y_val, predict(X_val, w))\n",
    "    rmses.append(score)\n",
    "\n",
    "std_val = float(np.std(rmses))\n",
    "print(\"Validation RMSE by seed:\", [round(s, 3) for s in rmses])\n",
    "print(\"Std over seeds (rounded to 3):\", round(std_val, 3))\n"
   ]
  },
  {
   "cell_type": "code",
   "execution_count": null,
   "id": "93080ec8",
   "metadata": {},
   "outputs": [
    {
     "name": "stdout",
     "output_type": "stream",
     "text": [
      "Test RMSE (seed=9, r=0.001): 0.526\n"
     ]
    }
   ],
   "source": [
    "seed = 9\n",
    "train_df, val_df, test_df = split_train_val_test_2step(df, seed=seed)\n",
    "\n",
    "# Combine train + validation\n",
    "trainval_df = pd.concat([train_df, val_df], axis=0)\n",
    "\n",
    "# Impute horsepower with 0\n",
    "for d in (trainval_df, test_df):\n",
    "    d['horsepower'] = d['horsepower'].fillna(0)\n",
    "\n",
    "feat_cols = ['engine_displacement', 'horsepower', 'vehicle_weight', 'model_year']\n",
    "target_col = 'fuel_efficiency_mpg'\n",
    "\n",
    "X_trainval = trainval_df[feat_cols].to_numpy()\n",
    "y_trainval = trainval_df[target_col].to_numpy()\n",
    "X_test = test_df[feat_cols].to_numpy()\n",
    "y_test = test_df[target_col].to_numpy()\n",
    "\n",
    "# Train ridge with r=0.001\n",
    "w = fit_linear_regression(X_trainval, y_trainval, r=0.001)\n",
    "test_rmse = rmse(y_test, predict(X_test, w))\n",
    "\n",
    "print(\"Test RMSE (seed=9, r=0.001):\", round(test_rmse, 3))\n"
   ]
  },
  {
   "cell_type": "code",
   "execution_count": null,
   "id": "b14b04d6",
   "metadata": {},
   "outputs": [],
   "source": []
  }
 ],
 "metadata": {
  "language_info": {
   "name": "python"
  }
 },
 "nbformat": 4,
 "nbformat_minor": 5
}
